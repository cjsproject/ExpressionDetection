{
 "cells": [
  {
   "cell_type": "code",
   "execution_count": null,
   "id": "daa799da",
   "metadata": {},
   "outputs": [],
   "source": [
    "%matplotlib inline\n",
    "import matplotlib.pyplot as plt\n",
    "\n",
    "import torch\n",
    "import torchvision\n",
    "import tarfile\n",
    "from torch.autograd import Variable\n",
    "\n",
    "import pandas as pd\n",
    "\n",
    "from torch.autograd import Variable\n",
    "import torch.nn.functional as F"
   ]
  },
  {
   "cell_type": "code",
   "execution_count": null,
   "id": "e5082bd9",
   "metadata": {},
   "outputs": [],
   "source": [
    "path = '../fer2013.csv'\n",
    "\n",
    "data_df = pd.read_csv(path)\n",
    "data_df.head(4)"
   ]
  },
  {
   "cell_type": "code",
   "execution_count": null,
   "id": "8f5d748b",
   "metadata": {},
   "outputs": [],
   "source": [
    "print('samples:', len(data_df))\n",
    "\n",
    "print(data_df['Usage'].nunique())\n",
    "print(data_df['Usage'].unique())"
   ]
  },
  {
   "cell_type": "code",
   "execution_count": null,
   "id": "e2c961cc",
   "metadata": {},
   "outputs": [],
   "source": [
    "trainData = data_df[data_df['Usage'] == 'Training']\n",
    "testData = data_df[data_df['Usage'] != 'Training']\n",
    "print(f'training samples:{len(trainData)}\\n testing samples:{len(testData)}')"
   ]
  },
  {
   "cell_type": "code",
   "execution_count": null,
   "id": "473c3a3b",
   "metadata": {},
   "outputs": [],
   "source": [
    "labels = {\n",
    "    0:'Angry',\n",
    "    1:'Disgust',\n",
    "    2:'Fear',\n",
    "    3:'Happy',\n",
    "    4:'Sad',\n",
    "    5:'Surprise',\n",
    "    6:'Neutral'\n",
    "}"
   ]
  },
  {
   "cell_type": "code",
   "execution_count": null,
   "id": "d1e40d7b",
   "metadata": {},
   "outputs": [],
   "source": [
    "# grab pixel values in tensor array,  \n",
    "tensorData = torch.as_tensor([[float(i) for i in trainData['pixels'][j].split(' ')] for j in range(len(trainData))])\n",
    "tensorDataTest = torch.as_tensor([[float(i) for i in testData['pixels'][j].split(' ')] for j in range(len(testData))])\n"
   ]
  },
  {
   "cell_type": "code",
   "execution_count": null,
   "id": "e36ce742",
   "metadata": {},
   "outputs": [],
   "source": [
    "# Simple PCA function using Torch's tensors\n",
    "def PCA(indata, K=250):\n",
    "    # normalize tensors\n",
    "    normTensor = F.normalize(indata)\n",
    "\n",
    "    U, S, V = torch.pca_lowrank(normTensor, q=K, center=True)\n",
    "\n",
    "    # this is the matrix multiplication that performs the PCA\n",
    "    kComps = torch.matmul(normTensor, V[:, :K])\n",
    "    \n",
    "    return kComps\n",
    "\n",
    "# Preparing train\n",
    "X_train = PCA(tensorData, K=250)\n",
    "X_test = PCA(tensorDataTest, K=250)"
   ]
  },
  {
   "cell_type": "code",
   "execution_count": null,
   "id": "5d41937e",
   "metadata": {},
   "outputs": [],
   "source": [
    "# returns a vector for each label, i.e. [1,0,0,0,0,0,0]\n",
    "def get_label_vect(df):\n",
    "    # getting labels\n",
    "    y = torch.tensor(df['emotion'])\n",
    "    \n",
    "    # transforming single column labels into a 7 element vector for each example\n",
    "    zs = torch.zeros(kComponents.shape[0], 7)#kComponents.shape[0], 7)\n",
    "\n",
    "    for i in range(zs.shape[0]):\n",
    "        for j in range(zs.shape[1]):\n",
    "            if y[i] == j:\n",
    "                zs[i][j] = 1\n",
    "            \n",
    "    return zs\n",
    "\n",
    "y_train = get_label_vect(tensorData)\n",
    "y_test = get_label_vect(tensorDataTest)"
   ]
  },
  {
   "cell_type": "code",
   "execution_count": null,
   "id": "315edc0f",
   "metadata": {},
   "outputs": [],
   "source": [
    "# Feed Forward neural network\n",
    "class ANN(nn.Module):\n",
    "    def __init__(self, n_hid=8, epochs=3, eta=0.05, mB=1000):\n",
    "        super(MLP, self).__init__()\n",
    "        self.n_hid, self.epochs, self.eta, self.mB = n_hid, epochs, eta, mB\n",
    "        \n",
    "        self.optimizer = None\n",
    "        self.loss_func = nn.GaussianNLLLoss()\n",
    "        \n",
    "        self.net2 = nn.Sequential(\n",
    "            nn.Linear(kComponents.shape[1], self.n_hid),\n",
    "            nn.GELU(),\n",
    "            \n",
    "            nn.Linear(self.n_hid, self.n_hid),\n",
    "            nn.Softplus(),\n",
    "            \n",
    "            nn.Linear(self.n_hid, 7),\n",
    "        )\n",
    "\n",
    "    def _forward(self, _X, apply_softmax=False):\n",
    "        import torch.nn.functional as F\n",
    "        out = self.net2(_X)\n",
    "        if apply_softmax:\n",
    "            out = F.softmax(out, dim=1)\n",
    "        return out\n",
    "\n",
    "    def _reset(self):\n",
    "        for m in self.modules():\n",
    "            if isinstance(m, nn.Linear) or isinstance(m, nn.Conv2d):\n",
    "                 m.reset_parameters()\n",
    "\n",
    "    def predict(self, _X):\n",
    "        net_out = self._forward(_X, apply_softmax=True)\n",
    "        p_values, indices = net_out.max(dim=1)\n",
    "        return indices\n",
    "\n",
    "    def fit(self, _X, _y):\n",
    "        import torch.optim as optim\n",
    "        self._reset()  # Reset the neural network weights\n",
    "        self.optimizer = torch.optim.Adamax(self.parameters(), lr=self.eta)\n",
    "        for _ in range(self.epochs):\n",
    "            indices = np.arange(_X.shape[0])\n",
    "            for ix in range(0, indices.shape[0]-self.mB+1, self.mB):                \n",
    "                ixB = indices[ix:ix+self.mB]\n",
    "                self.optimizer.zero_grad()\n",
    "                net_out = self._forward(_X[ixB])\n",
    "                var = net_out.var(axis=1)\n",
    "\n",
    "                loss = self.loss_func(net_out, _y[ixB], var)\n",
    "                loss.backward()\n",
    "                self.optimizer.step()"
   ]
  },
  {
   "cell_type": "code",
   "execution_count": null,
   "id": "3657b627",
   "metadata": {},
   "outputs": [],
   "source": [
    "clf = ANN(256, 1000, 0.075, 50)\n",
    "clf.fit(X_train, y_train)"
   ]
  },
  {
   "cell_type": "code",
   "execution_count": null,
   "id": "60ab3d63",
   "metadata": {},
   "outputs": [],
   "source": [
    "y_pred = clf.predict(X_train)\n",
    "train_acc = (torch.sum(y_train==y_pred).float() / X_train.shape[0])\n",
    "\n",
    "print(f\"ANN accuracy on known data= {train_acc:.3f}\")"
   ]
  },
  {
   "cell_type": "code",
   "execution_count": null,
   "id": "cd17a490",
   "metadata": {},
   "outputs": [],
   "source": [
    "y_predT = clf.predict(X_test)\n",
    "test_acc = (torch.sum(y_test==y_predT).float() / X_train.shape[0])\n",
    "\n",
    "print(f\"ANN accuracy on new data= {test_acc:.3f}\")"
   ]
  },
  {
   "cell_type": "code",
   "execution_count": null,
   "id": "d00379bd",
   "metadata": {},
   "outputs": [],
   "source": [
    "# showing some original sample image\n",
    "plt.imshow(tensorData[1500].reshape([48, 48]), cmap='gray')"
   ]
  },
  {
   "cell_type": "code",
   "execution_count": null,
   "id": "d53354f6",
   "metadata": {},
   "outputs": [],
   "source": [
    "# Recreate approximated images using PCA\n",
    "xapprox  = torch.matmul(kComponents ,V.T[:K, :])\n",
    "\n",
    "# recreation of image from xapprox (which used the k-components)\n",
    "plt.imshow(torch.reshape(xapprox[1500], [48, 48]), cmap='gray')\n",
    "plt.title(f'{labels[y_pred[1500]]}') "
   ]
  }
 ],
 "metadata": {
  "kernelspec": {
   "display_name": "Python 3 (ipykernel)",
   "language": "python",
   "name": "python3"
  },
  "language_info": {
   "codemirror_mode": {
    "name": "ipython",
    "version": 3
   },
   "file_extension": ".py",
   "mimetype": "text/x-python",
   "name": "python",
   "nbconvert_exporter": "python",
   "pygments_lexer": "ipython3",
   "version": "3.7.11"
  }
 },
 "nbformat": 4,
 "nbformat_minor": 5
}
