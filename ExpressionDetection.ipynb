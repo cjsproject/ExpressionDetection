{
 "cells": [
  {
   "cell_type": "code",
   "execution_count": 30,
   "id": "b785e346",
   "metadata": {},
   "outputs": [],
   "source": [
    "%matplotlib inline\n",
    "import matplotlib.pyplot as plt\n",
    "\n",
    "import torch\n",
    "import torchvision\n",
    "import tarfile\n",
    "from torch.autograd import Variable\n",
    "\n",
    "import pandas as pd\n",
    "import numpy as np\n",
    "\n",
    "from torch.autograd import Variable\n",
    "import torch.nn.functional as F\n",
    "import torch.nn as nn"
   ]
  },
  {
   "cell_type": "code",
   "execution_count": 2,
   "id": "e60ffd93",
   "metadata": {},
   "outputs": [
    {
     "data": {
      "text/html": [
       "<div>\n",
       "<style scoped>\n",
       "    .dataframe tbody tr th:only-of-type {\n",
       "        vertical-align: middle;\n",
       "    }\n",
       "\n",
       "    .dataframe tbody tr th {\n",
       "        vertical-align: top;\n",
       "    }\n",
       "\n",
       "    .dataframe thead th {\n",
       "        text-align: right;\n",
       "    }\n",
       "</style>\n",
       "<table border=\"1\" class=\"dataframe\">\n",
       "  <thead>\n",
       "    <tr style=\"text-align: right;\">\n",
       "      <th></th>\n",
       "      <th>emotion</th>\n",
       "      <th>pixels</th>\n",
       "      <th>Usage</th>\n",
       "    </tr>\n",
       "  </thead>\n",
       "  <tbody>\n",
       "    <tr>\n",
       "      <th>0</th>\n",
       "      <td>0</td>\n",
       "      <td>70 80 82 72 58 58 60 63 54 58 60 48 89 115 121...</td>\n",
       "      <td>Training</td>\n",
       "    </tr>\n",
       "    <tr>\n",
       "      <th>1</th>\n",
       "      <td>0</td>\n",
       "      <td>151 150 147 155 148 133 111 140 170 174 182 15...</td>\n",
       "      <td>Training</td>\n",
       "    </tr>\n",
       "    <tr>\n",
       "      <th>2</th>\n",
       "      <td>2</td>\n",
       "      <td>231 212 156 164 174 138 161 173 182 200 106 38...</td>\n",
       "      <td>Training</td>\n",
       "    </tr>\n",
       "    <tr>\n",
       "      <th>3</th>\n",
       "      <td>4</td>\n",
       "      <td>24 32 36 30 32 23 19 20 30 41 21 22 32 34 21 1...</td>\n",
       "      <td>Training</td>\n",
       "    </tr>\n",
       "  </tbody>\n",
       "</table>\n",
       "</div>"
      ],
      "text/plain": [
       "   emotion                                             pixels     Usage\n",
       "0        0  70 80 82 72 58 58 60 63 54 58 60 48 89 115 121...  Training\n",
       "1        0  151 150 147 155 148 133 111 140 170 174 182 15...  Training\n",
       "2        2  231 212 156 164 174 138 161 173 182 200 106 38...  Training\n",
       "3        4  24 32 36 30 32 23 19 20 30 41 21 22 32 34 21 1...  Training"
      ]
     },
     "execution_count": 2,
     "metadata": {},
     "output_type": "execute_result"
    }
   ],
   "source": [
    "path = '../fer2013.csv'\n",
    "\n",
    "data_df = pd.read_csv(path)\n",
    "data_df.head(4)"
   ]
  },
  {
   "cell_type": "code",
   "execution_count": 3,
   "id": "b4fc436d",
   "metadata": {},
   "outputs": [
    {
     "name": "stdout",
     "output_type": "stream",
     "text": [
      "samples: 35887\n",
      "3\n",
      "['Training' 'PublicTest' 'PrivateTest']\n"
     ]
    }
   ],
   "source": [
    "print('samples:', len(data_df))\n",
    "\n",
    "print(data_df['Usage'].nunique())\n",
    "print(data_df['Usage'].unique())"
   ]
  },
  {
   "cell_type": "code",
   "execution_count": 4,
   "id": "912c8898",
   "metadata": {},
   "outputs": [
    {
     "name": "stdout",
     "output_type": "stream",
     "text": [
      "training samples:28709\n",
      " testing samples:7178\n"
     ]
    }
   ],
   "source": [
    "trainData = data_df[data_df['Usage'] == 'Training']\n",
    "testData = data_df[data_df['Usage'] != 'Training']\n",
    "print(f'training samples:{len(trainData)}\\n testing samples:{len(testData)}')"
   ]
  },
  {
   "cell_type": "code",
   "execution_count": 5,
   "id": "ebf33abc",
   "metadata": {},
   "outputs": [],
   "source": [
    "labels = {\n",
    "    0:'Angry',\n",
    "    1:'Disgust',\n",
    "    2:'Fear',\n",
    "    3:'Happy',\n",
    "    4:'Sad',\n",
    "    5:'Surprise',\n",
    "    6:'Neutral'\n",
    "}"
   ]
  },
  {
   "cell_type": "code",
   "execution_count": 17,
   "id": "5f55aeac",
   "metadata": {},
   "outputs": [],
   "source": [
    "# grab pixel values in tensor array,  \n",
    "tensorData = torch.as_tensor([[float(i) for i in trainData['pixels'][j].split(' ')] for j in trainData.index])\n",
    "tensorDataTest = torch.as_tensor([[float(i) for i in testData['pixels'][j].split(' ')] for j in testData.index])\n"
   ]
  },
  {
   "cell_type": "code",
   "execution_count": 18,
   "id": "42c0161c",
   "metadata": {},
   "outputs": [],
   "source": [
    "# Simple PCA function using Torch's tensors\n",
    "def PCA(indata, K=250):\n",
    "    # normalize tensors\n",
    "    normTensor = F.normalize(indata)\n",
    "\n",
    "    U, S, V = torch.pca_lowrank(normTensor, q=K, center=True)\n",
    "\n",
    "    # this is the matrix multiplication that performs the PCA\n",
    "    kComps = torch.matmul(normTensor, V[:, :K])\n",
    "    \n",
    "    return kComps\n",
    "\n",
    "# Preparing train\n",
    "X_train = PCA(tensorData, K=250)\n",
    "X_test = PCA(tensorDataTest, K=250)"
   ]
  },
  {
   "cell_type": "code",
   "execution_count": 32,
   "id": "8253f01e",
   "metadata": {},
   "outputs": [],
   "source": [
    "# returns a vector for each label, i.e. [1,0,0,0,0,0,0]\n",
    "def get_label_vect(df, X):\n",
    "    # getting labels\n",
    "    y = torch.tensor(df['emotion'])\n",
    "    \n",
    "    # transforming single column labels into a 7 element vector for each example\n",
    "    zs = torch.zeros(X.shape[0], 7)#kComponents.shape[0], 7)\n",
    "\n",
    "    for i in range(zs.shape[0]):\n",
    "        for j in range(zs.shape[1]):\n",
    "            if y[i] == j:\n",
    "                zs[i][j] = 1\n",
    "            \n",
    "    return zs\n",
    "\n",
    "y_train = get_label_vect(trainData, X_train)\n",
    "y_test = testData['emotion']"
   ]
  },
  {
   "cell_type": "code",
   "execution_count": 40,
   "id": "39fbe519",
   "metadata": {},
   "outputs": [],
   "source": [
    "# Feed Forward neural network\n",
    "class ANN(nn.Module):\n",
    "    def __init__(self, n_hid=8, epochs=3, eta=0.05, mB=1000):\n",
    "        super(ANN, self).__init__()\n",
    "        self.n_hid, self.epochs, self.eta, self.mB = n_hid, epochs, eta, mB\n",
    "        \n",
    "        self.optimizer = None\n",
    "        self.loss_func = nn.GaussianNLLLoss()\n",
    "        \n",
    "        self.net2 = nn.Sequential(\n",
    "            nn.Linear(X_train.shape[1], self.n_hid),\n",
    "            nn.GELU(),\n",
    "            \n",
    "            nn.Linear(self.n_hid, self.n_hid),\n",
    "            nn.Softplus(),\n",
    "            \n",
    "            nn.Linear(self.n_hid, 7),\n",
    "        )\n",
    "\n",
    "    def _forward(self, _X, apply_softmax=False):\n",
    "        import torch.nn.functional as F\n",
    "        out = self.net2(_X)\n",
    "        if apply_softmax:\n",
    "            out = F.softmax(out, dim=1)\n",
    "        return out\n",
    "\n",
    "    def _reset(self):\n",
    "        for m in self.modules():\n",
    "            if isinstance(m, nn.Linear) or isinstance(m, nn.Conv2d):\n",
    "                 m.reset_parameters()\n",
    "\n",
    "    def predict(self, _X):\n",
    "        net_out = self._forward(_X, apply_softmax=True)\n",
    "        p_values, indices = net_out.max(dim=1)\n",
    "        return indices\n",
    "\n",
    "    def fit(self, _X, _y):\n",
    "        import torch.optim as optim\n",
    "        self._reset()  # Reset the neural network weights\n",
    "        self.optimizer = torch.optim.Adamax(self.parameters(), lr=self.eta)\n",
    "        for _ in range(self.epochs):\n",
    "            indices = np.arange(_X.shape[0])\n",
    "            for ix in range(0, indices.shape[0]-self.mB+1, self.mB):                \n",
    "                ixB = indices[ix:ix+self.mB]\n",
    "                self.optimizer.zero_grad()\n",
    "                net_out = self._forward(_X[ixB])\n",
    "                var = net_out.var(axis=1)\n",
    "\n",
    "                loss = self.loss_func(net_out, _y[ixB], var)\n",
    "                loss.backward()\n",
    "                self.optimizer.step()"
   ]
  },
  {
   "cell_type": "code",
   "execution_count": 72,
   "id": "6ce66aef",
   "metadata": {},
   "outputs": [],
   "source": [
    "clf = ANN(128, 1000, 0.01, 50)\n",
    "clf.fit(X_train, y_train)"
   ]
  },
  {
   "cell_type": "code",
   "execution_count": 84,
   "id": "657c870a",
   "metadata": {},
   "outputs": [
    {
     "name": "stdout",
     "output_type": "stream",
     "text": [
      "ANN accuracy on known data= 0.905\n"
     ]
    }
   ],
   "source": [
    "y_pred = clf.predict(X_train)\n",
    "# getting labels\n",
    "ytrp = torch.tensor(trainData['emotion'].values)\n",
    "train_acc = (torch.sum(ytrp==y_pred).float() / X_train.shape[0])\n",
    "\n",
    "print(f\"ANN accuracy on known data= {train_acc:.3f}\")"
   ]
  },
  {
   "cell_type": "code",
   "execution_count": 85,
   "id": "a23016d1",
   "metadata": {},
   "outputs": [
    {
     "name": "stdout",
     "output_type": "stream",
     "text": [
      "ANN accuracy on new data= 0.037\n"
     ]
    }
   ],
   "source": [
    "y_predT = clf.predict(X_test)\n",
    "ytsp = torch.tensor(testData['emotion'].values)\n",
    "test_acc = (torch.sum(ytsp==y_predT).float() / X_train.shape[0])\n",
    "\n",
    "print(f\"ANN accuracy on new data= {test_acc:.3f}\")"
   ]
  },
  {
   "cell_type": "code",
   "execution_count": 75,
   "id": "1c6da06a",
   "metadata": {},
   "outputs": [
    {
     "data": {
      "text/plain": [
       "<matplotlib.image.AxesImage at 0x213b9649dc8>"
      ]
     },
     "execution_count": 75,
     "metadata": {},
     "output_type": "execute_result"
    },
    {
     "data": {
      "image/png": "[encoded data removed]",
      "text/plain": [
       "<Figure size 432x288 with 1 Axes>"
      ]
     },
     "metadata": {
      "needs_background": "light"
     },
     "output_type": "display_data"
    }
   ],
   "source": [
    "# showing some original sample image\n",
    "plt.imshow(tensorData[1500].reshape([48, 48]), cmap='gray')"
   ]
  },
  {
   "cell_type": "code",
   "execution_count": 93,
   "id": "6d0b3dc2",
   "metadata": {},
   "outputs": [
    {
     "data": {
      "text/plain": [
       "Text(0.5, 1.0, 'Neutral')"
      ]
     },
     "execution_count": 93,
     "metadata": {},
     "output_type": "execute_result"
    },
    {
     "data": {
      "image/png": "[encoded data removed]",
      "text/plain": [
       "<Figure size 432x288 with 1 Axes>"
      ]
     },
     "metadata": {
      "needs_background": "light"
     },
     "output_type": "display_data"
    }
   ],
   "source": [
    "# Recreate approximated images using PCA\n",
    "normTensor = F.normalize(tensorData)\n",
    "\n",
    "U, S, V = torch.pca_lowrank(normTensor, q=250, center=True)\n",
    "xapprox  = torch.matmul(X_train ,V.T[:250, :])\n",
    "\n",
    "# recreation of image from xapprox (which used the k-components)\n",
    "plt.imshow(torch.reshape(xapprox[1500], [48, 48]), cmap='gray')\n",
    "plt.title(f'{labels[y_pred[1500].item()]}') "
   ]
  }
 ],
 "metadata": {
  "kernelspec": {
   "display_name": "Python 3 (ipykernel)",
   "language": "python",
   "name": "python3"
  },
  "language_info": {
   "codemirror_mode": {
    "name": "ipython",
    "version": 3
   },
   "file_extension": ".py",
   "mimetype": "text/x-python",
   "name": "python",
   "nbconvert_exporter": "python",
   "pygments_lexer": "ipython3",
   "version": "3.7.11"
  }
 },
 "nbformat": 4,
 "nbformat_minor": 5
}
