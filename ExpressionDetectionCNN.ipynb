{
 "cells": [
  {
   "cell_type": "code",
   "execution_count": 1,
   "id": "8b8e54d2",
   "metadata": {},
   "outputs": [],
   "source": [
    "import torch\n",
    "import torchvision\n",
    "import tarfile\n",
    "from torch import nn, optim\n",
    "from torch.autograd import Variable\n",
    "\n",
    "import numpy as np\n",
    "import math\n",
    "\n",
    "import pandas as pd\n",
    "import matplotlib.pyplot as plt\n",
    "%matplotlib inline \n",
    "\n",
    "from torchvision.datasets import ImageFolder\n",
    "from torchvision.transforms import ToTensor\n",
    "from torchvision.utils import make_grid\n",
    "from torch.utils.data import Dataset, DataLoader"
   ]
  },
  {
   "cell_type": "code",
   "execution_count": 2,
   "id": "59a69f14",
   "metadata": {},
   "outputs": [],
   "source": [
    "project_name='facial-expression-reinforcement'"
   ]
  },
  {
   "cell_type": "code",
   "execution_count": 3,
   "id": "e8b1cdb8",
   "metadata": {},
   "outputs": [
    {
     "data": {
      "text/html": [
       "<div>\n",
       "<style scoped>\n",
       "    .dataframe tbody tr th:only-of-type {\n",
       "        vertical-align: middle;\n",
       "    }\n",
       "\n",
       "    .dataframe tbody tr th {\n",
       "        vertical-align: top;\n",
       "    }\n",
       "\n",
       "    .dataframe thead th {\n",
       "        text-align: right;\n",
       "    }\n",
       "</style>\n",
       "<table border=\"1\" class=\"dataframe\">\n",
       "  <thead>\n",
       "    <tr style=\"text-align: right;\">\n",
       "      <th></th>\n",
       "      <th>emotion</th>\n",
       "      <th>pixels</th>\n",
       "      <th>Usage</th>\n",
       "    </tr>\n",
       "  </thead>\n",
       "  <tbody>\n",
       "    <tr>\n",
       "      <th>0</th>\n",
       "      <td>0</td>\n",
       "      <td>70 80 82 72 58 58 60 63 54 58 60 48 89 115 121...</td>\n",
       "      <td>Training</td>\n",
       "    </tr>\n",
       "    <tr>\n",
       "      <th>1</th>\n",
       "      <td>0</td>\n",
       "      <td>151 150 147 155 148 133 111 140 170 174 182 15...</td>\n",
       "      <td>Training</td>\n",
       "    </tr>\n",
       "    <tr>\n",
       "      <th>2</th>\n",
       "      <td>2</td>\n",
       "      <td>231 212 156 164 174 138 161 173 182 200 106 38...</td>\n",
       "      <td>Training</td>\n",
       "    </tr>\n",
       "    <tr>\n",
       "      <th>3</th>\n",
       "      <td>4</td>\n",
       "      <td>24 32 36 30 32 23 19 20 30 41 21 22 32 34 21 1...</td>\n",
       "      <td>Training</td>\n",
       "    </tr>\n",
       "  </tbody>\n",
       "</table>\n",
       "</div>"
      ],
      "text/plain": [
       "   emotion                                             pixels     Usage\n",
       "0        0  70 80 82 72 58 58 60 63 54 58 60 48 89 115 121...  Training\n",
       "1        0  151 150 147 155 148 133 111 140 170 174 182 15...  Training\n",
       "2        2  231 212 156 164 174 138 161 173 182 200 106 38...  Training\n",
       "3        4  24 32 36 30 32 23 19 20 30 41 21 22 32 34 21 1...  Training"
      ]
     },
     "execution_count": 3,
     "metadata": {},
     "output_type": "execute_result"
    }
   ],
   "source": [
    "path = '../fer2013.csv'\n",
    "\n",
    "data_df = pd.read_csv(path)\n",
    "data_df.head(4)"
   ]
  },
  {
   "cell_type": "code",
   "execution_count": 4,
   "id": "fab5f04f",
   "metadata": {},
   "outputs": [
    {
     "name": "stdout",
     "output_type": "stream",
     "text": [
      "samples: 35887\n",
      "3\n",
      "['Training' 'PublicTest' 'PrivateTest']\n"
     ]
    }
   ],
   "source": [
    "print('samples:', len(data_df))\n",
    "\n",
    "print(data_df['Usage'].nunique())\n",
    "print(data_df['Usage'].unique())"
   ]
  },
  {
   "cell_type": "code",
   "execution_count": 5,
   "id": "4c7365bd",
   "metadata": {},
   "outputs": [
    {
     "name": "stdout",
     "output_type": "stream",
     "text": [
      "training samples:28709\n",
      " testing samples:7178\n"
     ]
    }
   ],
   "source": [
    "trainData = data_df[data_df['Usage'] == 'Training']\n",
    "testData = data_df[data_df['Usage'] != 'Training']\n",
    "print(f'training samples:{len(trainData)}\\n testing samples:{len(testData)}')"
   ]
  },
  {
   "cell_type": "code",
   "execution_count": 6,
   "id": "d2246753",
   "metadata": {},
   "outputs": [
    {
     "name": "stdout",
     "output_type": "stream",
     "text": [
      "{0: 'Angry', 1: 'Disgust', 2: 'Fear', 3: 'Happy', 4: 'Sad', 5: 'Surprise', 6: 'Neutral'}\n"
     ]
    }
   ],
   "source": [
    "labels = {\n",
    "    0:'Angry',\n",
    "    1:'Disgust',\n",
    "    2:'Fear',\n",
    "    3:'Happy',\n",
    "    4:'Sad',\n",
    "    5:'Surprise',\n",
    "    6:'Neutral'\n",
    "}\n",
    "print(labels)"
   ]
  },
  {
   "cell_type": "code",
   "execution_count": 7,
   "id": "d67c0255",
   "metadata": {},
   "outputs": [],
   "source": [
    "# creating tensors from input pixels\n",
    "tensorData = torch.as_tensor([[float(i) for i in trainData['pixels'][j].split(' ')] for j in range(len(trainData))])"
   ]
  },
  {
   "cell_type": "code",
   "execution_count": 8,
   "id": "aa689605",
   "metadata": {},
   "outputs": [
    {
     "data": {
      "text/plain": [
       "<matplotlib.image.AxesImage at 0x17193134188>"
      ]
     },
     "execution_count": 8,
     "metadata": {},
     "output_type": "execute_result"
    },
    {
     "data": {
      "image/png": "[encoded data removed]",
      "text/plain": [
       "<Figure size 432x288 with 1 Axes>"
      ]
     },
     "metadata": {
      "needs_background": "light"
     },
     "output_type": "display_data"
    }
   ],
   "source": [
    "plt.imshow(tensorData[1500].reshape([48, 48]), cmap='gray')"
   ]
  },
  {
   "cell_type": "code",
   "execution_count": 9,
   "id": "bc439487",
   "metadata": {},
   "outputs": [],
   "source": [
    "K = 250\n",
    "\n",
    "normTensor = nn.functional.normalize(tensorData)\n",
    "\n",
    "\n",
    "U, S, V = torch.pca_lowrank(normTensor, q=K, center=True)"
   ]
  },
  {
   "cell_type": "code",
   "execution_count": 10,
   "id": "828e0841",
   "metadata": {},
   "outputs": [
    {
     "data": {
      "text/plain": [
       "torch.Size([28709, 250])"
      ]
     },
     "execution_count": 10,
     "metadata": {},
     "output_type": "execute_result"
    }
   ],
   "source": [
    "U.shape"
   ]
  },
  {
   "cell_type": "code",
   "execution_count": 11,
   "id": "ad891773",
   "metadata": {},
   "outputs": [
    {
     "data": {
      "text/plain": [
       "torch.Size([250])"
      ]
     },
     "execution_count": 11,
     "metadata": {},
     "output_type": "execute_result"
    }
   ],
   "source": [
    "S.shape"
   ]
  },
  {
   "cell_type": "code",
   "execution_count": 12,
   "id": "d5f0ea88",
   "metadata": {},
   "outputs": [
    {
     "data": {
      "text/plain": [
       "torch.Size([2304, 250])"
      ]
     },
     "execution_count": 12,
     "metadata": {},
     "output_type": "execute_result"
    }
   ],
   "source": [
    "V.shape"
   ]
  },
  {
   "cell_type": "code",
   "execution_count": 13,
   "id": "c4d36087",
   "metadata": {},
   "outputs": [],
   "source": [
    "# this is the matrix multiplication that performs the PCA\n",
    "kComponents = torch.matmul(normTensor, V[:, :K])\n",
    "\n",
    "xapprox  = torch.matmul(kComponents ,V.T[:K, :])"
   ]
  },
  {
   "cell_type": "code",
   "execution_count": 14,
   "id": "93b34b8e",
   "metadata": {},
   "outputs": [
    {
     "data": {
      "text/plain": [
       "<matplotlib.image.AxesImage at 0x1723b579d48>"
      ]
     },
     "execution_count": 14,
     "metadata": {},
     "output_type": "execute_result"
    },
    {
     "data": {
      "image/png": "[encoded data removed]",
      "text/plain": [
       "<Figure size 432x288 with 1 Axes>"
      ]
     },
     "metadata": {
      "needs_background": "light"
     },
     "output_type": "display_data"
    }
   ],
   "source": [
    "# recreation of image from xapprox (which used the k-components)\n",
    "plt.imshow(torch.reshape(xapprox[1500], [48, 48]), cmap='gray')"
   ]
  },
  {
   "cell_type": "code",
   "execution_count": 35,
   "id": "546dd6d3",
   "metadata": {},
   "outputs": [
    {
     "name": "stdout",
     "output_type": "stream",
     "text": [
      "torch.Size([28709, 250])\n"
     ]
    }
   ],
   "source": [
    "# first, find the mean and variance of each class using tensors\n",
    "print(kComponents.shape)\n",
    "\n",
    "means = [kComponents[trainData['emotion'] == i].mean(axis=0) for i in labels]\n",
    "variances = [kComponents[trainData['emotion'] == i].std(axis=0).square() for i in labels]"
   ]
  },
  {
   "cell_type": "code",
   "execution_count": 46,
   "id": "77359d10",
   "metadata": {},
   "outputs": [],
   "source": [
    "for i in range(7):\n",
    "    means[i] = means[i].numpy()\n",
    "    variances[i] = variances[i].numpy()"
   ]
  },
  {
   "cell_type": "code",
   "execution_count": null,
   "id": "5e680fe6",
   "metadata": {},
   "outputs": [],
   "source": [
    "# prepping for mean & variation by class.\n",
    "pixelDF = np.array([trainData[trainData['emotion'] == i]['pixels'] for i in labels ])\n",
    "\n",
    "pixelarr = np.array([np.array([np.array(pixelDF[i][j].split(' '), dtype=float) for j in pixelDF[i].index]) for i in labels])"
   ]
  },
  {
   "cell_type": "code",
   "execution_count": 464,
   "id": "e9efc8bf",
   "metadata": {},
   "outputs": [],
   "source": [
    "# first, find the mean & variance of each class\n",
    "means = np.array([pixelarr[i].mean(axis=0) for i in labels])\n",
    "variances = np.power(p.array([pixelarr[i].std(axis=0) for i in labels]), 2)"
   ]
  },
  {
   "cell_type": "code",
   "execution_count": 47,
   "id": "c38093b1",
   "metadata": {},
   "outputs": [],
   "source": [
    "# rank features\n",
    "# feature Ranking\n",
    "\n",
    "FDR = []\n",
    "for j in range(len(means)-1):\n",
    "    for i in range(1,len(means)):\n",
    "        if i == j:\n",
    "            continue\n",
    "        numerator = np.power(means[j] - means[i], 2)\n",
    "        denom = variances[j] + variances[i]\n",
    "        result = numerator/denom\n",
    "        FDR.append(result)\n",
    "\n",
    "FDR\n",
    "FDR = (1/3)*np.sum(FDR, 0)"
   ]
  },
  {
   "cell_type": "code",
   "execution_count": 54,
   "id": "0d66eb04",
   "metadata": {},
   "outputs": [
    {
     "data": {
      "text/plain": [
       "array([0.40013194, 0.5660231 ], dtype=float32)"
      ]
     },
     "execution_count": 54,
     "metadata": {},
     "output_type": "execute_result"
    }
   ],
   "source": [
    "\"\"\"print(np.where(FDR == max(FDR)))\n",
    "\n",
    "print(max(FDR), FDR[744])\n",
    "\n",
    "print( np.argpartition(FDR, -250)[-250:])\n",
    "\n",
    "print(normTensor[0, 1862], np.where(np.isclose(kComponents, normTensor[0, 1862])))\"\"\"\n",
    "indices = np.argpartition(FDR, -2)[-2:]\n",
    "\n",
    "FDR[indices]"
   ]
  },
  {
   "cell_type": "code",
   "execution_count": 15,
   "id": "fa3ebfd1",
   "metadata": {},
   "outputs": [
    {
     "data": {
      "text/plain": [
       "(array([[ 52.,  14.,   6.,  13.,   8.,   4.,   2.,   0.,   0.,   1.],\n",
       "        [101.,   0.,   0.,   0.,   0.,   0.,   0.,   0.,   0.,   0.]]),\n",
       " array([-0.4537282,  2.4916446,  5.4370174,  8.38239  , 11.327763 ,\n",
       "        14.273136 , 17.21851  , 20.163881 , 23.109255 , 26.054626 ,\n",
       "        29.       ], dtype=float32),\n",
       " <a list of 2 BarContainer objects>)"
      ]
     },
     "execution_count": 15,
     "metadata": {},
     "output_type": "execute_result"
    },
    {
     "data": {
      "image/png": "[encoded data removed]",
      "text/plain": [
       "<Figure size 432x288 with 1 Axes>"
      ]
     },
     "metadata": {
      "needs_background": "light"
     },
     "output_type": "display_data"
    }
   ],
   "source": [
    "%matplotlib inline\n",
    "import matplotlib.pyplot as plt\n",
    "\n",
    "hist = kComponents[:500, 3].histogram()\n",
    "\n",
    "plt.hist(hist)"
   ]
  },
  {
   "cell_type": "code",
   "execution_count": 16,
   "id": "7d65300d",
   "metadata": {},
   "outputs": [
    {
     "data": {
      "text/plain": [
       "<matplotlib.collections.PathCollection at 0x17234277188>"
      ]
     },
     "execution_count": 16,
     "metadata": {},
     "output_type": "execute_result"
    },
    {
     "data": {
      "image/png": "[encoded data removed]",
      "text/plain": [
       "<Figure size 432x288 with 1 Axes>"
      ]
     },
     "metadata": {
      "needs_background": "light"
     },
     "output_type": "display_data"
    }
   ],
   "source": [
    "plt.scatter(kComponents[:500, 0], kComponents[:500, 1], c=trainData['emotion'][:500], marker='+')"
   ]
  },
  {
   "cell_type": "code",
   "execution_count": 112,
   "id": "86ad71be",
   "metadata": {},
   "outputs": [],
   "source": [
    "from scipy.stats import kurtosis as kurt\n",
    "def generate_samples(n):\n",
    "    r = (abs(kComponents[:500, 0].mean() - kComponents[:500, 1].mean())/abs(kComponents[:500, 0].std() - kComponents[:500, 1].std())) + torch.rand(n,1)*0.1\n",
    "    theta = abs((kurt(kComponents[:500, 0]) - kurt(kComponents[:500, 1]))/2)*3.1415926*torch.rand(n,1)\n",
    "    x = torch.cos(theta)*r\n",
    "    y = torch.sin(theta)*r\n",
    "    \n",
    "    return x, y"
   ]
  },
  {
   "cell_type": "code",
   "execution_count": 180,
   "id": "3c7ebab8",
   "metadata": {},
   "outputs": [
    {
     "data": {
      "text/plain": [
       "tensor([ 75,  79,  72,  74,  65,  76,  82,  73, 111,  77,  78,  24,  71,  70,\n",
       "         69,  67,  66,  87,  92,  37,  64,  68,  80,  53,  17,  81,  86,  63,\n",
       "         34,  10,  96,  91,  35, 166,  95, 121,  55, 113,  54, 249,  62,  89,\n",
       "          0,  48, 158,   4,   5,   6,   7,   8,   9,  11,  12,  13,  14,  15,\n",
       "         16,  18,  19,  20,  21,  22,  23,  25,  26,  27,  28,  29,  30,  32,\n",
       "         33,  36,  38,  39,  40,  41,  42,  43,  44,  45,  46,  47,  49,  50,\n",
       "         51,  52,  56,  57,  58,  59,  60,  61,  31,  83,  84,  85,  88,  90,\n",
       "         93,  94,  97,  98,  99, 100, 101, 102, 103, 104, 105, 106, 107, 108,\n",
       "        109, 110, 112, 114, 115, 116, 117, 118, 119, 120, 122, 123, 124, 125,\n",
       "        126, 127, 128, 129, 130, 131, 132, 133, 134, 135, 136, 137, 138, 139,\n",
       "        140, 141, 142, 143, 144, 145, 146, 147, 148, 149, 150, 151, 152, 153,\n",
       "        154, 155, 156, 157,   1, 159, 160, 161, 162, 163, 164, 165,   2, 167,\n",
       "        168, 169, 170, 171, 172, 173, 174, 175, 176, 177, 178, 179, 180, 181,\n",
       "        182, 183, 184, 185, 186,   3, 188, 189, 190, 191, 192, 193, 194, 195,\n",
       "        196, 197, 198, 199, 200, 201, 202, 203, 204, 205, 206, 207, 208, 209,\n",
       "        210, 211, 212, 213, 214, 215, 216, 217, 187, 219, 220, 221, 222, 223,\n",
       "        224, 225, 226, 227, 228, 229, 230, 231, 232, 233, 234, 235, 236, 237,\n",
       "        238, 239, 240, 241, 242, 243, 244, 245, 246, 247, 248, 218])"
      ]
     },
     "execution_count": 180,
     "metadata": {},
     "output_type": "execute_result"
    }
   ],
   "source": [
    "BINS = 250\n",
    "hist = kComponents[0, :].histogram(bins=BINS)\n",
    "\n",
    "torch.multinomial(hist[0], 250)#int(hist[0].sum().item()))\n",
    "\n"
   ]
  },
  {
   "cell_type": "code",
   "execution_count": 132,
   "id": "87ff5102",
   "metadata": {},
   "outputs": [],
   "source": [
    "from sklearn.mixture import GaussianMixture\n",
    "\n",
    "kComponents\n",
    "\n",
    "gm = GaussianMixture(n_components=7).fit(kComponents)"
   ]
  },
  {
   "cell_type": "code",
   "execution_count": 133,
   "id": "5b101ecf",
   "metadata": {},
   "outputs": [],
   "source": [
    "pred_y = gm.predict(kComponents)"
   ]
  },
  {
   "cell_type": "code",
   "execution_count": 17,
   "id": "e5106680",
   "metadata": {},
   "outputs": [],
   "source": [
    "from torch.autograd import Variable\n",
    "from torch.nn import GELU\n",
    "import torch.nn.functional as F"
   ]
  },
  {
   "cell_type": "code",
   "execution_count": 18,
   "id": "86b4a24f",
   "metadata": {},
   "outputs": [
    {
     "name": "stdout",
     "output_type": "stream",
     "text": [
      "55\n"
     ]
    }
   ],
   "source": [
    "Ns = kComponents.size()[0]\n",
    "Ni = kComponents.size()[1]\n",
    "No = len(labels)\n",
    "a = 2\n",
    "\n",
    "Neurons = Ns // (a * (Ni + No))\n",
    "\n",
    "print(Neurons)"
   ]
  },
  {
   "cell_type": "code",
   "execution_count": 19,
   "id": "76b82bd1",
   "metadata": {},
   "outputs": [],
   "source": [
    "class SimpleModel(torch.nn.Module):\n",
    "    def __init__(self):\n",
    "        super(SimpleModel, self).__init__()\n",
    "        Ns = kComponents.size()[0]\n",
    "        Ni = kComponents.size()[1]\n",
    "        No = len(labels)\n",
    "        a = 3\n",
    "\n",
    "        Nh = 128#Ns // (a * (Ni + No))\n",
    "        \n",
    "        #250 input features, 64 output features (see sizing flow below)\n",
    "        self.fc1 = torch.nn.Linear(250, Nh)\n",
    "        \n",
    "        # hidden layers\n",
    "        self.fc2 = torch.nn.Linear(Nh, Nh)\n",
    "\n",
    "\n",
    "        #outlayer 7 classes defined\n",
    "        self.fc3 = torch.nn.Linear(Nh, 7)\n",
    "\n",
    "    def forward(self, x):\n",
    "        gelu = GELU()\n",
    "        #lsm = LogSoftmax()\n",
    "        #silu = SiLU()\n",
    "        # first FC layer\n",
    "        #x = F.relu(self.fc1(x))\n",
    "        x = gelu(self.fc1(x))\n",
    "        #x = F.softplus(self.fc1(x))\n",
    "        x = F.softplus(self.fc2(x))\n",
    "        \n",
    "        #Computes the second fully connected layer (activation applied later)\n",
    "        #Size changes from (1, 64) to (1, 7) for each expression\n",
    "        #x = self.fc3(x)\n",
    "        x = self.fc3(x)\n",
    "        return(x)"
   ]
  },
  {
   "cell_type": "code",
   "execution_count": 20,
   "id": "b898859a",
   "metadata": {},
   "outputs": [],
   "source": [
    "test = SimpleModel()\n",
    "\n",
    "#Construct the loss function\n",
    "criterion = torch.nn.GaussianNLLLoss()\n",
    "#criterion = torch.nn.CrossEntropyLoss()\n",
    "\n",
    "# Construct the optimizer (Stochastic Gradient Descent in this case)\n",
    "\n",
    "# yielded 91% accuracy with current model:\n",
    "optimizer = torch.optim.LBFGS(test.parameters(), lr = 1.25, max_iter=25, tolerance_grad=1e-6, tolerance_change=1e-09, history_size=50)\n",
    "\n",
    "#optimizer = torch.optim.SGD(test.parameters(), lr=1.25) \n",
    "#optimizer = torch.optim.ASGD(test.parameters(), lr=0.165, lambd=0.1, alpha=0.001, t0=1e6, weight_decay=0)\n"
   ]
  },
  {
   "cell_type": "code",
   "execution_count": 23,
   "id": "ecd4c3ea",
   "metadata": {},
   "outputs": [],
   "source": [
    "M = 10000#kComponents.shape[0]"
   ]
  },
  {
   "cell_type": "code",
   "execution_count": 1226,
   "id": "d1bdda30",
   "metadata": {},
   "outputs": [],
   "source": [
    "def closure():\n",
    "    inputs = Variable(kComponents[:M])\n",
    "    optimizer.zero_grad()\n",
    "    y_pred = test.forward(inputs)\n",
    "    \n",
    "    var = y_pred.var(axis=1)\n",
    "    \n",
    "    # Compute and print loss\n",
    "    loss = criterion(y_pred, zs[:M], var)\n",
    "    loss.backward()\n",
    "    return loss"
   ]
  },
  {
   "cell_type": "code",
   "execution_count": 658,
   "id": "f3b322de",
   "metadata": {},
   "outputs": [],
   "source": [
    "# getting labels\n",
    "y = torch.tensor(trainData['emotion'])"
   ]
  },
  {
   "cell_type": "code",
   "execution_count": 22,
   "id": "19987e2c",
   "metadata": {},
   "outputs": [],
   "source": [
    "# transforming single column labels into a 7 element vector for each example\n",
    "zs = torch.zeros(kComponents.shape[0], 7)#kComponents.shape[0], 7)\n",
    "\n",
    "for i in range(zs.shape[0]):\n",
    "    for j in range(zs.shape[1]):\n",
    "        if y[i] == j:\n",
    "            zs[i][j] = 1"
   ]
  },
  {
   "cell_type": "code",
   "execution_count": 1229,
   "id": "2e1b3b71",
   "metadata": {},
   "outputs": [
    {
     "name": "stdout",
     "output_type": "stream",
     "text": [
      "epoch:  0  loss:  0.39408260583877563\n",
      "epoch:  10  loss:  7.909710884094238\n",
      "epoch:  20  loss:  7.723777770996094\n",
      "epoch:  30  loss:  nan\n",
      "epoch:  40  loss:  nan\n",
      "epoch:  50  loss:  nan\n",
      "epoch:  60  loss:  nan\n",
      "epoch:  70  loss:  nan\n",
      "epoch:  80  loss:  nan\n",
      "epoch:  90  loss:  nan\n"
     ]
    }
   ],
   "source": [
    "# training the network, can use kComponents[:500]\n",
    "for epoch in range(100):\n",
    "    inputs = Variable(kComponents[:M])\n",
    "    # Forward pass: Compute predicted y by passing x to the model\n",
    "    y_pred = test.forward(inputs)\n",
    "    \n",
    "    var = y_pred.var(axis=1)\n",
    "    \n",
    "    # Compute and print loss\n",
    "    loss = criterion(y_pred, zs[:M], var)\n",
    "    \n",
    "    #if test.fc1.weight.grad != None:\n",
    "    #    print(test.fc1.weight.grad.mean())\n",
    "    #    print(test.fc2.weight.grad.mean())\n",
    "    #    print(test.fc3.weight.grad.mean())\n",
    "    #    print(test.fc4.weight.grad.mean())\n",
    "        \n",
    "    if epoch%10 == 0:\n",
    "        print('epoch: ', epoch,' loss: ', loss.item())\n",
    "\n",
    "    # Zero gradients, perform a backward pass, and update the weights.\n",
    "    optimizer.zero_grad()\n",
    "\n",
    "    # perform a backward pass (backpropagation)\n",
    "    loss.backward()\n",
    "\n",
    "    # Update the parameters\n",
    "    optimizer.step(closure)"
   ]
  },
  {
   "cell_type": "code",
   "execution_count": 1203,
   "id": "2ebcd8a0",
   "metadata": {},
   "outputs": [],
   "source": [
    "def accuracy(outputs, labels):\n",
    "    _, preds = torch.max(outputs, dim=1)\n",
    "    return torch.tensor(torch.sum(preds == labels).item() / len(preds))"
   ]
  },
  {
   "cell_type": "code",
   "execution_count": 1230,
   "id": "c74e1b89",
   "metadata": {},
   "outputs": [
    {
     "name": "stdout",
     "output_type": "stream",
     "text": [
      "torch.Size([28709, 7]) torch.Size([28709, 7])\n",
      "tensor(0.1392)\n",
      "torch.return_types.max(\n",
      "values=tensor([nan, nan, nan, nan, nan, nan, nan, nan, nan, nan],\n",
      "       grad_fn=<MaxBackward0>),\n",
      "indices=tensor([0, 0, 0, 0, 0, 0, 0, 0, 0, 0]))\n"
     ]
    }
   ],
   "source": [
    "test_pred = test.forward(kComponents)\n",
    "print(test_pred.shape, zs.shape)\n",
    "print(accuracy(test_pred, y))\n",
    "print(torch.max(test_pred[:10], dim=1))"
   ]
  },
  {
   "cell_type": "code",
   "execution_count": 1121,
   "id": "1092414f",
   "metadata": {},
   "outputs": [
    {
     "name": "stdout",
     "output_type": "stream",
     "text": [
      "tensor([[ 0.3992, -0.3311,  0.0758, -0.1371,  0.7896, -0.2750,  0.4805],\n",
      "        [ 0.4198, -0.0770,  0.2386,  0.1506,  0.6157, -0.1400, -0.2074],\n",
      "        [ 0.1162, -0.1888,  0.3820,  0.1440,  0.5456, -0.1655,  0.1693],\n",
      "        [ 0.0071, -0.0968, -0.0981,  0.2730,  0.7053,  0.0055,  0.2000],\n",
      "        [ 0.0879, -0.1961,  0.3253, -0.0662,  0.1065,  0.1439,  0.6050],\n",
      "        [ 0.1035, -0.3049,  0.2988, -0.0509,  0.7629, -0.2458,  0.4358],\n",
      "        [ 0.0750, -0.1951,  0.0965,  0.3361,  0.6650, -0.1477,  0.1679],\n",
      "        [ 0.1149, -0.1433,  0.1375,  0.4772,  0.2969,  0.0312,  0.0821],\n",
      "        [ 0.2133, -0.1386,  0.0206,  0.6236,  0.0059,  0.0379,  0.2510],\n",
      "        [ 0.0761, -0.2634,  0.4974,  0.1949,  0.1046,  0.2556,  0.1211]],\n",
      "       grad_fn=<SliceBackward0>)\n",
      "tensor([[1., 0., 0., 0., 0., 0., 0.],\n",
      "        [1., 0., 0., 0., 0., 0., 0.],\n",
      "        [0., 0., 1., 0., 0., 0., 0.],\n",
      "        [0., 0., 0., 0., 1., 0., 0.],\n",
      "        [0., 0., 0., 0., 0., 0., 1.],\n",
      "        [0., 0., 1., 0., 0., 0., 0.],\n",
      "        [0., 0., 0., 0., 1., 0., 0.],\n",
      "        [0., 0., 0., 1., 0., 0., 0.],\n",
      "        [0., 0., 0., 1., 0., 0., 0.],\n",
      "        [0., 0., 1., 0., 0., 0., 0.]])\n"
     ]
    }
   ],
   "source": [
    "print(test_pred[:10], zs[:10], sep='\\n')"
   ]
  },
  {
   "cell_type": "code",
   "execution_count": 752,
   "id": "867c4931",
   "metadata": {},
   "outputs": [
    {
     "data": {
      "text/plain": [
       "2304"
      ]
     },
     "execution_count": 752,
     "metadata": {},
     "output_type": "execute_result"
    }
   ],
   "source": [
    "len(testData['pixels'].values[1].split(' '))"
   ]
  },
  {
   "cell_type": "code",
   "execution_count": 756,
   "id": "8d7ad678",
   "metadata": {},
   "outputs": [],
   "source": [
    "X_train, y_train = normTensor.reshape(normTensor.shape[0], 1, 48, 48), y\n",
    "\n",
    "X_test = torch.as_tensor([[float(i) for i in testData['pixels'][j].split(' ')] for j in testData.index])\n",
    "\n",
    "#X_test = X_test.reshape(X_test.shape[0], 1, 48, 48)\n",
    "\n",
    "y_test = torch.tensor(testData['emotion'].values)"
   ]
  },
  {
   "cell_type": "code",
   "execution_count": 665,
   "id": "283e048b",
   "metadata": {},
   "outputs": [],
   "source": [
    "# Simple PCA function using Torch's tensors\n",
    "def PCA(indata, K=250):\n",
    "    # normalize tensors\n",
    "    normTensor = F.normalize(indata)\n",
    "\n",
    "    U, S, V = torch.pca_lowrank(normTensor, q=K, center=True)\n",
    "\n",
    "    # this is the matrix multiplication that performs the PCA\n",
    "    kComps = torch.matmul(normTensor, V[:, :K])\n",
    "    \n",
    "    return kComps\n",
    "\n",
    "# Preparing train\n",
    "X_test = PCA(X_test, K=250)"
   ]
  },
  {
   "cell_type": "code",
   "execution_count": 758,
   "id": "1c24e575",
   "metadata": {},
   "outputs": [],
   "source": [
    "X_tsconv = torch.as_tensor([[float(i) for i in testData['pixels'][j].split(' ')] for j in testData.index])"
   ]
  },
  {
   "cell_type": "code",
   "execution_count": 759,
   "id": "81567b02",
   "metadata": {},
   "outputs": [],
   "source": [
    "X_tsconv = X_tsconv.reshape(X_tsconv.shape[0], 1, 48, 48)"
   ]
  },
  {
   "cell_type": "code",
   "execution_count": 647,
   "id": "015ad001",
   "metadata": {},
   "outputs": [],
   "source": [
    "# Convolutional Neural Net\n",
    "class MLP(nn.Module):\n",
    "    def __init__(self, n_hid=8, epochs=3, eta=0.05, mB=1000):\n",
    "        super(MLP, self).__init__()\n",
    "        self.n_hid, self.epochs, self.eta, self.mB = n_hid, epochs, eta, mB\n",
    "        \n",
    "        self.optimizer = None\n",
    "        self.loss_func = nn.GaussianNLLLoss()#nn.CrossEntropyLoss()#\n",
    "        \n",
    "        self.net = nn.Sequential(\n",
    "            nn.Conv2d(1, self.n_hid, 8),\n",
    "            nn.GELU(),\n",
    "            nn.MaxPool2d(2),\n",
    "            nn.BatchNorm2d(self.n_hid),\n",
    "\n",
    "            nn.Conv2d(self.n_hid, self.n_hid*2, 8),\n",
    "            nn.GELU(),\n",
    "            nn.MaxPool2d(2),\n",
    "\n",
    "            nn.Flatten(start_dim=1),\n",
    "            \n",
    "            # 9*9 is computed in the above cell - based on 48x48 image size\n",
    "            nn.Linear(self.n_hid*2 * 9 * 4, 128),  # 256 arbitrary\n",
    "            nn.BatchNorm1d(128),\n",
    "            \n",
    "            nn.Linear(128, 7),\n",
    "        )\n",
    "        \n",
    "        self.net2 = nn.Sequential(\n",
    "            nn.Linear(kComponents.shape[1], self.n_hid),\n",
    "            nn.GELU(),\n",
    "            #nn.Softplus(),\n",
    "            \n",
    "            nn.Linear(self.n_hid, self.n_hid),\n",
    "            nn.Softplus(),\n",
    "            \n",
    "            nn.Linear(self.n_hid, 7),\n",
    "        )\n",
    "\n",
    "    def _forward(self, _X, apply_softmax=False):\n",
    "        import torch.nn.functional as F\n",
    "        out = self.net2(_X)\n",
    "        if apply_softmax:\n",
    "            out = F.softmax(out, dim=1)\n",
    "        return out\n",
    "\n",
    "    def _reset(self):\n",
    "        for m in self.modules():\n",
    "            if isinstance(m, nn.Linear) or isinstance(m, nn.Conv2d):\n",
    "                 m.reset_parameters()\n",
    "\n",
    "    def predict(self, _X):\n",
    "        net_out = self._forward(_X, apply_softmax=True)\n",
    "        p_values, indices = net_out.max(dim=1)\n",
    "        return indices\n",
    "\n",
    "    def fit(self, _X, _y):\n",
    "        import torch.optim as optim\n",
    "        self._reset()  # Reset the neural network weights\n",
    "        self.optimizer = torch.optim.Adamax(self.parameters(), lr=self.eta)#torch.optim.LBFGS(self.parameters(), lr = self.eta, max_iter=20, tolerance_grad=1e-6, tolerance_change=1e-09, history_size=50)\n",
    "#optim.SGD(self.parameters(), lr=self.eta, momentum=0.9)#torch.optim.Adam(self.parameters(), lr=self.eta)\n",
    "        for _ in range(self.epochs):\n",
    "            indices = np.arange(_X.shape[0])\n",
    "            for ix in range(0, indices.shape[0]-self.mB+1, self.mB):\n",
    "\n",
    "                def close():\n",
    "                    inputs = Variable(_X[ixB])\n",
    "                    self.optimizer.zero_grad()\n",
    "                    out = self._forward(inputs)\n",
    "\n",
    "                    var2 = out.var(axis=1)\n",
    "\n",
    "                    # Compute and print loss\n",
    "                    loss = criterion(out, _y[ixB], var2)\n",
    "                    loss.backward(retain_graph=True)\n",
    "                    return loss\n",
    "                \n",
    "                ixB = indices[ix:ix+self.mB]\n",
    "                self.optimizer.zero_grad()\n",
    "                net_out = self._forward(_X[ixB])\n",
    "                var = net_out.var(axis=1)\n",
    "\n",
    "                loss = self.loss_func(net_out, _y[ixB], var)\n",
    "                loss.backward()\n",
    "                self.optimizer.step()#close)"
   ]
  },
  {
   "cell_type": "code",
   "execution_count": 656,
   "id": "5a0b0a22",
   "metadata": {
    "scrolled": true
   },
   "outputs": [],
   "source": [
    "clf = MLP(256, 1000, 0.075, 50)\n",
    "clf.fit(kComponents, zs)"
   ]
  },
  {
   "cell_type": "code",
   "execution_count": 667,
   "id": "4a184a7d",
   "metadata": {},
   "outputs": [
    {
     "name": "stdout",
     "output_type": "stream",
     "text": [
      "MLP training accuracy= 0.963\n"
     ]
    }
   ],
   "source": [
    "y_pred = clf.predict(kComponents)\n",
    "test_acc = (torch.sum(y_train==y_pred).float() / X_train.shape[0])\n",
    "\n",
    "print(f\"MLP training accuracy= {test_acc:.3f}\")"
   ]
  },
  {
   "cell_type": "code",
   "execution_count": 669,
   "id": "4f79f65c",
   "metadata": {},
   "outputs": [
    {
     "name": "stdout",
     "output_type": "stream",
     "text": [
      "MLP testing accuracy= 0.225\n"
     ]
    }
   ],
   "source": [
    "y_predT = clf.predict(X_test)\n",
    "test_acc = (torch.sum(y_test==y_predT).float() / X_test.shape[0])\n",
    "\n",
    "print(f\"MLP testing accuracy= {test_acc:.3f}\")"
   ]
  },
  {
   "cell_type": "code",
   "execution_count": 682,
   "id": "6c136c48",
   "metadata": {},
   "outputs": [],
   "source": [
    "trainTensor = tensorData.reshape(tensorData.shape[0], 1, 48, 48)"
   ]
  },
  {
   "cell_type": "code",
   "execution_count": 739,
   "id": "5f56b273",
   "metadata": {},
   "outputs": [],
   "source": [
    "# Convolutional Neural Net\n",
    "class CNN(nn.Module):\n",
    "    def __init__(self, n_hid=8, epochs=3, eta=0.05, mB=1000):\n",
    "        super(CNN, self).__init__()\n",
    "        self.n_hid, self.epochs, self.eta, self.mB = n_hid, epochs, eta, mB\n",
    "        \n",
    "        self.optimizer = None\n",
    "        self.loss_func = nn.CrossEntropyLoss()#nn.GaussianNLLLoss()#\n",
    "        \n",
    "        self.net = nn.Sequential(\n",
    "            nn.Conv2d(1, self.n_hid, 8),\n",
    "            nn.GELU(),\n",
    "            nn.MaxPool2d(2),\n",
    "            nn.BatchNorm2d(self.n_hid),\n",
    "\n",
    "            nn.Conv2d(self.n_hid, self.n_hid*2, 8),\n",
    "            nn.Softplus(),\n",
    "            nn.MaxPool2d(2),\n",
    "\n",
    "            nn.Flatten(start_dim=1),\n",
    "            \n",
    "            # 9*9 is computed in the above cell - based on 48x48 image size\n",
    "            nn.Linear(self.n_hid*2 * 9 * 4, 128),  # 256 arbitrary\n",
    "            nn.BatchNorm1d(128),\n",
    "            \n",
    "            nn.Linear(128, 7),\n",
    "        )\n",
    "\n",
    "    def _forward(self, _X, apply_softmax=False):\n",
    "        import torch.nn.functional as F\n",
    "        out = self.net(_X)\n",
    "        if apply_softmax:\n",
    "            out = F.softmax(out, dim=1)\n",
    "        return out\n",
    "\n",
    "    def _reset(self):\n",
    "        for m in self.modules():\n",
    "            if isinstance(m, nn.Linear) or isinstance(m, nn.Conv2d):\n",
    "                 m.reset_parameters()\n",
    "\n",
    "    def predict(self, _X):\n",
    "        net_out = self._forward(_X, apply_softmax=True)\n",
    "        p_values, indices = net_out.max(dim=1)\n",
    "        return indices\n",
    "\n",
    "    def fit(self, _X, _y):\n",
    "        import torch.optim as optim\n",
    "        self._reset()  # Reset the neural network weights\n",
    "        self.optimizer = optim.SGD(self.parameters(), lr=self.eta, momentum=0.9)#torch.optim.Adamax(self.parameters(), lr=self.eta)#torch.optim.LBFGS(self.parameters(), lr = self.eta, max_iter=20, tolerance_grad=1e-6, tolerance_change=1e-09, history_size=50)\n",
    "#torch.optim.Adam(self.parameters(), lr=self.eta)\n",
    "        for _ in range(self.epochs):\n",
    "            indices = np.arange(_X.shape[0])\n",
    "            for ix in range(0, indices.shape[0]-self.mB+1, self.mB):\n",
    "\n",
    "                def close():\n",
    "                    inputs = Variable(_X[ixB])\n",
    "                    self.optimizer.zero_grad()\n",
    "                    out = self._forward(inputs)\n",
    "\n",
    "                    var2 = out.var(axis=1)\n",
    "\n",
    "                    # Compute and print loss\n",
    "                    loss = criterion(out, _y[ixB], var2)\n",
    "                    loss.backward(retain_graph=True)\n",
    "                    return loss\n",
    "                \n",
    "                ixB = indices[ix:ix+self.mB]\n",
    "                self.optimizer.zero_grad()\n",
    "                net_out = self._forward(_X[ixB])\n",
    "                #var = net_out.var(axis=1)\n",
    "\n",
    "                loss = self.loss_func(net_out, _y[ixB])#, var)\n",
    "                loss.backward()\n",
    "                self.optimizer.step()#close)"
   ]
  },
  {
   "cell_type": "code",
   "execution_count": 771,
   "id": "f8156579",
   "metadata": {},
   "outputs": [],
   "source": [
    "cnn = CNN(16, 1000, 0.05, 500)\n",
    "cnn.fit(trainTensor, zs)"
   ]
  },
  {
   "cell_type": "code",
   "execution_count": 772,
   "id": "71839964",
   "metadata": {},
   "outputs": [
    {
     "name": "stdout",
     "output_type": "stream",
     "text": [
      "MLP training accuracy= 0.991\n"
     ]
    }
   ],
   "source": [
    "y_pred = cnn.predict(trainTensor)\n",
    "train_acc = (torch.sum(y_train==y_pred).float() / trainTensor.shape[0])\n",
    "\n",
    "print(f\"MLP training accuracy= {train_acc:.3f}\")"
   ]
  },
  {
   "cell_type": "code",
   "execution_count": 773,
   "id": "93e2d5b5",
   "metadata": {},
   "outputs": [
    {
     "name": "stdout",
     "output_type": "stream",
     "text": [
      "MLP new data accuracy= 0.466\n"
     ]
    }
   ],
   "source": [
    "y_predT = cnn.predict(X_tsconv)\n",
    "test_acc = (torch.sum(y_test==y_predT).float() / X_tsconv.shape[0])\n",
    "\n",
    "print(f\"MLP new data accuracy= {test_acc:.3f}\")"
   ]
  }
 ],
 "metadata": {
  "kernelspec": {
   "display_name": "Python 3 (ipykernel)",
   "language": "python",
   "name": "python3"
  },
  "language_info": {
   "codemirror_mode": {
    "name": "ipython",
    "version": 3
   },
   "file_extension": ".py",
   "mimetype": "text/x-python",
   "name": "python",
   "nbconvert_exporter": "python",
   "pygments_lexer": "ipython3",
   "version": "3.7.11"
  }
 },
 "nbformat": 4,
 "nbformat_minor": 5
}
