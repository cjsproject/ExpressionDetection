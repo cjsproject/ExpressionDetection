{
 "cells": [
  {
   "cell_type": "code",
   "execution_count": 1,
   "id": "8b8e54d2",
   "metadata": {},
   "outputs": [],
   "source": [
    "import torch\n",
    "import torchvision\n",
    "import tarfile\n",
    "from torch import nn, optim\n",
    "from torch.autograd import Variable\n",
    "\n",
    "import numpy as np\n",
    "import math\n",
    "\n",
    "import pandas as pd\n",
    "import matplotlib.pyplot as plt\n",
    "%matplotlib inline "
   ]
  },
  {
   "cell_type": "code",
   "execution_count": 2,
   "id": "e8b1cdb8",
   "metadata": {},
   "outputs": [
    {
     "data": {
      "text/html": [
       "<div>\n",
       "<style scoped>\n",
       "    .dataframe tbody tr th:only-of-type {\n",
       "        vertical-align: middle;\n",
       "    }\n",
       "\n",
       "    .dataframe tbody tr th {\n",
       "        vertical-align: top;\n",
       "    }\n",
       "\n",
       "    .dataframe thead th {\n",
       "        text-align: right;\n",
       "    }\n",
       "</style>\n",
       "<table border=\"1\" class=\"dataframe\">\n",
       "  <thead>\n",
       "    <tr style=\"text-align: right;\">\n",
       "      <th></th>\n",
       "      <th>emotion</th>\n",
       "      <th>pixels</th>\n",
       "      <th>Usage</th>\n",
       "    </tr>\n",
       "  </thead>\n",
       "  <tbody>\n",
       "    <tr>\n",
       "      <th>0</th>\n",
       "      <td>0</td>\n",
       "      <td>70 80 82 72 58 58 60 63 54 58 60 48 89 115 121...</td>\n",
       "      <td>Training</td>\n",
       "    </tr>\n",
       "    <tr>\n",
       "      <th>1</th>\n",
       "      <td>0</td>\n",
       "      <td>151 150 147 155 148 133 111 140 170 174 182 15...</td>\n",
       "      <td>Training</td>\n",
       "    </tr>\n",
       "    <tr>\n",
       "      <th>2</th>\n",
       "      <td>2</td>\n",
       "      <td>231 212 156 164 174 138 161 173 182 200 106 38...</td>\n",
       "      <td>Training</td>\n",
       "    </tr>\n",
       "    <tr>\n",
       "      <th>3</th>\n",
       "      <td>4</td>\n",
       "      <td>24 32 36 30 32 23 19 20 30 41 21 22 32 34 21 1...</td>\n",
       "      <td>Training</td>\n",
       "    </tr>\n",
       "  </tbody>\n",
       "</table>\n",
       "</div>"
      ],
      "text/plain": [
       "   emotion                                             pixels     Usage\n",
       "0        0  70 80 82 72 58 58 60 63 54 58 60 48 89 115 121...  Training\n",
       "1        0  151 150 147 155 148 133 111 140 170 174 182 15...  Training\n",
       "2        2  231 212 156 164 174 138 161 173 182 200 106 38...  Training\n",
       "3        4  24 32 36 30 32 23 19 20 30 41 21 22 32 34 21 1...  Training"
      ]
     },
     "execution_count": 2,
     "metadata": {},
     "output_type": "execute_result"
    }
   ],
   "source": [
    "path = 'fer2013.csv'\n",
    "\n",
    "data_df = pd.read_csv(path)\n",
    "data_df.head(4)"
   ]
  },
  {
   "cell_type": "code",
   "execution_count": 3,
   "id": "fab5f04f",
   "metadata": {},
   "outputs": [
    {
     "name": "stdout",
     "output_type": "stream",
     "text": [
      "samples: 35887\n",
      "3\n",
      "['Training' 'PublicTest' 'PrivateTest']\n"
     ]
    }
   ],
   "source": [
    "print('samples:', len(data_df))\n",
    "\n",
    "print(data_df['Usage'].nunique())\n",
    "print(data_df['Usage'].unique())"
   ]
  },
  {
   "cell_type": "code",
   "execution_count": 4,
   "id": "4c7365bd",
   "metadata": {},
   "outputs": [
    {
     "name": "stdout",
     "output_type": "stream",
     "text": [
      "training samples:28709\n",
      " testing samples:7178\n"
     ]
    }
   ],
   "source": [
    "trainData = data_df[data_df['Usage'] == 'Training']\n",
    "testData = data_df[data_df['Usage'] != 'Training']\n",
    "print(f'training samples:{len(trainData)}\\n testing samples:{len(testData)}')"
   ]
  },
  {
   "cell_type": "code",
   "execution_count": 5,
   "id": "d2246753",
   "metadata": {},
   "outputs": [
    {
     "name": "stdout",
     "output_type": "stream",
     "text": [
      "{0: 'Angry', 1: 'Disgust', 2: 'Fear', 3: 'Happy', 4: 'Sad', 5: 'Surprise', 6: 'Neutral'}\n"
     ]
    }
   ],
   "source": [
    "labels = {\n",
    "    0:'Angry',\n",
    "    1:'Disgust',\n",
    "    2:'Fear',\n",
    "    3:'Happy',\n",
    "    4:'Sad',\n",
    "    5:'Surprise',\n",
    "    6:'Neutral'\n",
    "}\n",
    "print(labels)"
   ]
  },
  {
   "cell_type": "code",
   "execution_count": 6,
   "id": "d67c0255",
   "metadata": {},
   "outputs": [],
   "source": [
    "# creating tensors from input pixels\n",
    "tensorData = torch.as_tensor([[float(i) for i in trainData['pixels'][j].split(' ')] for j in range(len(trainData))])"
   ]
  },
  {
   "cell_type": "code",
   "execution_count": 7,
   "id": "aa689605",
   "metadata": {},
   "outputs": [
    {
     "data": {
      "text/plain": [
       "<matplotlib.image.AxesImage at 0x13144732488>"
      ]
     },
     "execution_count": 7,
     "metadata": {},
     "output_type": "execute_result"
    },
    {
     "data": {
      "image/png": "[encoded data removed]",
      "text/plain": [
       "<Figure size 432x288 with 1 Axes>"
      ]
     },
     "metadata": {
      "needs_background": "light"
     },
     "output_type": "display_data"
    }
   ],
   "source": [
    "plt.imshow(tensorData[1500].reshape([48, 48]), cmap='gray')"
   ]
  },
  {
   "cell_type": "code",
   "execution_count": 8,
   "id": "fa3ebfd1",
   "metadata": {},
   "outputs": [
    {
     "data": {
      "text/plain": [
       "(array([[99.,  1.,  0.,  0.,  0.,  0.,  0.,  0.,  0.,  0.],\n",
       "        [10., 10., 10., 10., 11.,  9., 10., 10., 10., 11.]]),\n",
       " array([  0. ,  25.5,  51. ,  76.5, 102. , 127.5, 153. , 178.5, 204. ,\n",
       "        229.5, 255. ], dtype=float32),\n",
       " <a list of 2 BarContainer objects>)"
      ]
     },
     "execution_count": 8,
     "metadata": {},
     "output_type": "execute_result"
    },
    {
     "data": {
      "image/png": "[encoded data removed]",
      "text/plain": [
       "<Figure size 432x288 with 1 Axes>"
      ]
     },
     "metadata": {
      "needs_background": "light"
     },
     "output_type": "display_data"
    }
   ],
   "source": [
    "%matplotlib inline\n",
    "import matplotlib.pyplot as plt\n",
    "\n",
    "hist = tensorData[:500, 3].histogram()\n",
    "\n",
    "plt.hist(hist)"
   ]
  },
  {
   "cell_type": "code",
   "execution_count": 10,
   "id": "86b4a24f",
   "metadata": {},
   "outputs": [
    {
     "name": "stdout",
     "output_type": "stream",
     "text": [
      "6\n"
     ]
    }
   ],
   "source": [
    "Ns = tensorData.size()[0]\n",
    "Ni = tensorData.size()[1]\n",
    "No = len(labels)\n",
    "a = 2\n",
    "\n",
    "Neurons = Ns // (a * (Ni + No))\n",
    "\n",
    "print(Neurons)"
   ]
  },
  {
   "cell_type": "code",
   "execution_count": 11,
   "id": "f3b322de",
   "metadata": {},
   "outputs": [],
   "source": [
    "# getting labels\n",
    "y = torch.tensor(trainData['emotion'].values)"
   ]
  },
  {
   "cell_type": "code",
   "execution_count": 13,
   "id": "19987e2c",
   "metadata": {},
   "outputs": [],
   "source": [
    "# transforming single column labels into a 7 element vector for each example\n",
    "zs = torch.zeros(tensorData.shape[0], 7)\n",
    "\n",
    "for i in range(zs.shape[0]):\n",
    "    for j in range(zs.shape[1]):\n",
    "        if y[i] == j:\n",
    "            zs[i][j] = 1"
   ]
  },
  {
   "cell_type": "code",
   "execution_count": 14,
   "id": "2ebcd8a0",
   "metadata": {},
   "outputs": [],
   "source": [
    "def accuracy(outputs, labels):\n",
    "    _, preds = torch.max(outputs, dim=1)\n",
    "    return torch.tensor(torch.sum(preds == labels).item() / len(preds))"
   ]
  },
  {
   "cell_type": "code",
   "execution_count": 72,
   "id": "8d7ad678",
   "metadata": {},
   "outputs": [],
   "source": [
    "X_train, y_train = tensorData.reshape(F.normalize(tensorData).shape[0], 1, 48, 48), y\n",
    "\n",
    "\n",
    "\n",
    "X_test = torch.as_tensor([[float(i) for i in testData['pixels'][j].split(' ')] for j in testData.index])\n",
    "\n",
    "X_test = F.normalize(X_test)\n",
    "\n",
    "X_test = X_test.reshape(X_test.shape[0], 1, 48, 48)\n",
    "\n",
    "y_test = torch.tensor(testData['emotion'].values)"
   ]
  },
  {
   "cell_type": "code",
   "execution_count": 112,
   "id": "5f56b273",
   "metadata": {},
   "outputs": [],
   "source": [
    "# Convolutional Neural Net\n",
    "import torch.nn as nn\n",
    "import torch.nn.functional as F\n",
    "class CNN(nn.Module):\n",
    "    def __init__(self, n_hid=8, epochs=3, eta=0.05, mB=1000):\n",
    "        super(CNN, self).__init__()\n",
    "        self.n_hid, self.epochs, self.eta, self.mB = n_hid, epochs, eta, mB\n",
    "        \n",
    "        self.optimizer = None\n",
    "        self.loss_func = nn.CrossEntropyLoss()#\n",
    "        \n",
    "        self.net = nn.Sequential(\n",
    "            nn.Conv2d(1, self.n_hid, self.n_hid),\n",
    "            nn.BatchNorm2d(self.n_hid),\n",
    "            nn.ReLU(),\n",
    "            #nn.MaxPool2d(2),\n",
    "\n",
    "            nn.Conv2d(self.n_hid, self.n_hid*2, Neurons),\n",
    "            nn.ReLU(),\n",
    "            nn.MaxPool2d(2),\n",
    "\n",
    "            nn.Flatten(start_dim=1),\n",
    "            \n",
    "            # 9*9 is computed in the above cell - based on 48x48 image size\n",
    "            nn.Linear(self.n_hid*338, 128),  # 256 arbitrary\n",
    "            nn.BatchNorm1d(128),\n",
    "            #nn.LayerNorm(128),\n",
    "            \n",
    "            nn.Linear(128, 7),\n",
    "        )\n",
    "\n",
    "    def _forward(self, _X, apply_softmax=False):\n",
    "        import torch.nn.functional as F\n",
    "        out = self.net(_X)\n",
    "        if apply_softmax:\n",
    "            out = F.softmax(out, dim=1)\n",
    "        return out\n",
    "\n",
    "    def _reset(self):\n",
    "        for m in self.modules():\n",
    "            if isinstance(m, nn.Linear) or isinstance(m, nn.Conv2d):\n",
    "                 m.reset_parameters()\n",
    "\n",
    "    def predict(self, _X):\n",
    "        net_out = self._forward(_X, apply_softmax=True)\n",
    "        p_values, indices = net_out.max(dim=1)\n",
    "        return indices\n",
    "\n",
    "    def fit(self, _X, _y):\n",
    "        import torch.optim as optim\n",
    "        self._reset()  # Reset the neural network weights\n",
    "        self.optimizer = torch.optim.Adam(self.parameters(), lr=self.eta)\n",
    "        for _ in range(self.epochs):\n",
    "            indices = np.arange(_X.shape[0])\n",
    "            for ix in range(0, indices.shape[0]-self.mB+1, self.mB):\n",
    "                ixB = indices[ix:ix+self.mB]\n",
    "                self.optimizer.zero_grad()\n",
    "                net_out = self._forward(_X[ixB])\n",
    "                \n",
    "                loss = self.loss_func(net_out, _y[ixB])\n",
    "                loss.backward()\n",
    "                self.optimizer.step()"
   ]
  },
  {
   "cell_type": "code",
   "execution_count": 113,
   "id": "f8156579",
   "metadata": {},
   "outputs": [],
   "source": [
    "cnn = CNN(Neurons*3, 10, 0.001, 3000)\n",
    "cnn.fit(X_train, zs)"
   ]
  },
  {
   "cell_type": "code",
   "execution_count": 114,
   "id": "71839964",
   "metadata": {},
   "outputs": [
    {
     "name": "stdout",
     "output_type": "stream",
     "text": [
      "MLP training accuracy= 0.583\n"
     ]
    }
   ],
   "source": [
    "y_pred = cnn.predict(X_train)\n",
    "train_acc = (torch.sum(y_train==y_pred).float() / X_train.shape[0])\n",
    "\n",
    "print(f\"MLP training accuracy= {train_acc:.3f}\")"
   ]
  },
  {
   "cell_type": "code",
   "execution_count": 115,
   "id": "93e2d5b5",
   "metadata": {},
   "outputs": [
    {
     "name": "stdout",
     "output_type": "stream",
     "text": [
      "MLP new data accuracy= 0.451\n"
     ]
    }
   ],
   "source": [
    "y_predT = cnn.predict(X_test)\n",
    "test_acc = (torch.sum(y_test==y_predT).float() / X_test.shape[0])\n",
    "\n",
    "print(f\"MLP new data accuracy= {test_acc:.3f}\")"
   ]
  }
 ],
 "metadata": {
  "kernelspec": {
   "display_name": "Python 3 (ipykernel)",
   "language": "python",
   "name": "python3"
  },
  "language_info": {
   "codemirror_mode": {
    "name": "ipython",
    "version": 3
   },
   "file_extension": ".py",
   "mimetype": "text/x-python",
   "name": "python",
   "nbconvert_exporter": "python",
   "pygments_lexer": "ipython3",
   "version": "3.7.11"
  }
 },
 "nbformat": 4,
 "nbformat_minor": 5
}
